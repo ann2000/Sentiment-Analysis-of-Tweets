{
 "metadata": {
  "language_info": {
   "codemirror_mode": {
    "name": "ipython",
    "version": 3
   },
   "file_extension": ".py",
   "mimetype": "text/x-python",
   "name": "python",
   "nbconvert_exporter": "python",
   "pygments_lexer": "ipython3",
   "version": "3.8.2-final"
  },
  "orig_nbformat": 2,
  "kernelspec": {
   "name": "Python 3.8.2 64-bit ('env': venv)",
   "display_name": "Python 3.8.2 64-bit ('env': venv)",
   "metadata": {
    "interpreter": {
     "hash": "d851c00d77dd7fb8b9946b18dabe01c0932dca9fb8d64104de0639e407dc0587"
    }
   }
  }
 },
 "nbformat": 4,
 "nbformat_minor": 2,
 "cells": [
  {
   "cell_type": "code",
   "execution_count": 1,
   "metadata": {},
   "outputs": [],
   "source": [
    "import pandas as pd\n",
    "from nltk.tokenize import word_tokenize\n",
    "from nltk import classify, NaiveBayesClassifier\n",
    "import re, string, random\n"
   ]
  },
  {
   "cell_type": "code",
   "execution_count": 2,
   "metadata": {},
   "outputs": [],
   "source": [
    "df = pd.DataFrame()\n",
    "df = pd.read_csv('COVID_tweets_india_dataset.csv')"
   ]
  },
  {
   "cell_type": "code",
   "execution_count": 3,
   "metadata": {},
   "outputs": [
    {
     "output_type": "stream",
     "name": "stderr",
     "text": [
      "[nltk_data] Downloading package punkt to /Users/annrose/nltk_data...\n[nltk_data]   Package punkt is already up-to-date!\n"
     ]
    }
   ],
   "source": [
    "import nltk as nltk\n",
    "nltk.download('punkt')\n",
    "sad_sentiment_tokens = [word_tokenize(sent) for sent in df.text[df.sentiment=='sad']]"
   ]
  },
  {
   "cell_type": "code",
   "execution_count": 4,
   "metadata": {},
   "outputs": [],
   "source": [
    "joy_sentiment_tokens = [word_tokenize(sent) for sent in df.text[df.sentiment=='joy']]\n",
    "fear_sentiment_tokens = [word_tokenize(sent) for sent in df.text[df.sentiment=='fear']]\n",
    "anger_sentiment_tokens = [word_tokenize(sent) for sent in df.text[df.sentiment=='anger']]"
   ]
  },
  {
   "cell_type": "code",
   "execution_count": 5,
   "metadata": {},
   "outputs": [],
   "source": [
    "def get_tweets(tokens):\n",
    "    for tweet_tokens in tokens:\n",
    "        yield dict([token, True] for token in tweet_tokens)"
   ]
  },
  {
   "cell_type": "code",
   "execution_count": 6,
   "metadata": {},
   "outputs": [],
   "source": [
    "sad_tokens = get_tweets(sad_sentiment_tokens)\n",
    "joy_tokens = get_tweets(joy_sentiment_tokens)\n",
    "fear_tokens = get_tweets(fear_sentiment_tokens)\n",
    "anger_tokens= get_tweets(anger_sentiment_tokens)"
   ]
  },
  {
   "cell_type": "code",
   "execution_count": 7,
   "metadata": {},
   "outputs": [],
   "source": [
    "sad_dataset = [(tweet_dict, \"Sad\") for tweet_dict in sad_tokens]\n",
    "joy_dataset = [(tweet_dict, \"Joy\") for tweet_dict in joy_tokens]\n",
    "fear_dataset = [(tweet_dict, \"Fear\") for tweet_dict in fear_tokens]\n",
    "anger_dataset = [(tweet_dict, \"Anger\") for tweet_dict in anger_tokens]                 "
   ]
  },
  {
   "cell_type": "code",
   "execution_count": 9,
   "metadata": {},
   "outputs": [],
   "source": [
    "dataset = sad_dataset +joy_dataset + fear_dataset + anger_dataset"
   ]
  },
  {
   "cell_type": "code",
   "execution_count": 10,
   "metadata": {},
   "outputs": [],
   "source": [
    "random.shuffle(dataset)"
   ]
  },
  {
   "cell_type": "code",
   "execution_count": 11,
   "metadata": {},
   "outputs": [],
   "source": [
    "train_data = dataset[:1545]\n",
    "test_data = dataset[1545:]\n",
    "\n",
    "classifier = NaiveBayesClassifier.train(train_data)"
   ]
  },
  {
   "cell_type": "code",
   "execution_count": 12,
   "metadata": {},
   "outputs": [
    {
     "output_type": "stream",
     "name": "stdout",
     "text": [
      "Accuracy: 0.6006472491909385\n"
     ]
    }
   ],
   "source": [
    "print(\"Accuracy:\", classify.accuracy(classifier, test_data))"
   ]
  },
  {
   "cell_type": "code",
   "execution_count": 13,
   "metadata": {},
   "outputs": [],
   "source": [
    "import pickle\n",
    "f = open('Classify_emotion.pkl', 'wb')\n",
    "pickle.dump(classifier,f)\n",
    "f.close()"
   ]
  },
  {
   "cell_type": "code",
   "execution_count": 21,
   "metadata": {},
   "outputs": [
    {
     "output_type": "execute_result",
     "data": {
      "text/plain": [
       "'Fear'"
      ]
     },
     "metadata": {},
     "execution_count": 21
    }
   ],
   "source": [
    "classifier.classify({\"It\": True,'was': True,'very':True, 'frightening':True})"
   ]
  }
 ]
}